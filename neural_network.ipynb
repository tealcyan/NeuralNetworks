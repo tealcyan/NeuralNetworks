{
 "cells": [
  {
   "cell_type": "code",
   "execution_count": 1,
   "metadata": {
    "collapsed": true,
    "pycharm": {
     "name": "#%%\n"
    }
   },
   "outputs": [],
   "source": [
    "import numpy as np\n",
    "data= np.genfromtxt('mnist_train.csv', delimiter=',')\n",
    "alpha=0.01"
   ]
  },
  {
   "cell_type": "code",
   "execution_count": 2,
   "outputs": [
    {
     "name": "stdout",
     "output_type": "stream",
     "text": [
      "(784,)\n"
     ]
    }
   ],
   "source": [
    "input= data[:,1:]\n",
    "print(input[1,:].shape)"
   ],
   "metadata": {
    "collapsed": false,
    "pycharm": {
     "name": "#%%\n"
    }
   }
  },
  {
   "cell_type": "code",
   "execution_count": 3,
   "outputs": [],
   "source": [
    "weights= np.random.uniform(-1, 1, size=(784, 10))"
   ],
   "metadata": {
    "collapsed": false,
    "pycharm": {
     "name": "#%%\n"
    }
   }
  },
  {
   "cell_type": "code",
   "execution_count": 14,
   "outputs": [
    {
     "name": "stdout",
     "output_type": "stream",
     "text": [
      "[[ 0.43280104  0.14495002  0.06648225 -0.29633618 -0.0597635   0.05656541\n",
      "  -0.01900646  0.00424938  0.36760634  0.07032561]]\n"
     ]
    }
   ],
   "source": [
    "for i in data:\n",
    "    input= i[1:].reshape(1,784)\n",
    "    input= (input.astype(float))/255\n",
    "\n",
    "    output=i[0]\n",
    "    a = np.zeros(10)\n",
    "    a[int(output)]=1\n",
    "    pred= np.matmul(input, weights)\n",
    "    delta= pred-a\n",
    "    error=(delta**2)\n",
    "    weight_deltas=input.T@delta\n",
    "    weights -=alpha*weight_deltas\n",
    "print(pred)"
   ],
   "metadata": {
    "collapsed": false,
    "pycharm": {
     "name": "#%%\n"
    }
   }
  },
  {
   "cell_type": "code",
   "execution_count": 15,
   "outputs": [],
   "source": [
    "test= np.genfromtxt('mnist_test.csv', delimiter=',')"
   ],
   "metadata": {
    "collapsed": false,
    "pycharm": {
     "name": "#%%\n"
    }
   }
  },
  {
   "cell_type": "code",
   "execution_count": 16,
   "outputs": [],
   "source": [
    "test_out=[]\n",
    "goal=test[:,0]\n",
    "for i in test:\n",
    "    input= i[1:].reshape(1,784)\n",
    "    input= (input.astype(float))/255\n",
    "\n",
    "    pred= np.matmul(input, weights)\n",
    "    test_out.append(np.argmax(pred))\n",
    "\n"
   ],
   "metadata": {
    "collapsed": false,
    "pycharm": {
     "name": "#%%\n"
    }
   }
  },
  {
   "cell_type": "code",
   "execution_count": 17,
   "outputs": [
    {
     "name": "stdout",
     "output_type": "stream",
     "text": [
      "-454.0\n",
      "[7. 2. 1. ... 4. 5. 6.]\n",
      "[7 2 1 ... 9 8 6]\n"
     ]
    }
   ],
   "source": [
    "test_out= np.array(test_out)\n",
    "print(sum(goal-test_out))\n",
    "print(goal)\n",
    "print(test_out)"
   ],
   "metadata": {
    "collapsed": false,
    "pycharm": {
     "name": "#%%\n"
    }
   }
  },
  {
   "cell_type": "code",
   "execution_count": 7,
   "outputs": [],
   "source": [],
   "metadata": {
    "collapsed": false,
    "pycharm": {
     "name": "#%%\n"
    }
   }
  }
 ],
 "metadata": {
  "kernelspec": {
   "display_name": "Python 3",
   "language": "python",
   "name": "python3"
  },
  "language_info": {
   "codemirror_mode": {
    "name": "ipython",
    "version": 2
   },
   "file_extension": ".py",
   "mimetype": "text/x-python",
   "name": "python",
   "nbconvert_exporter": "python",
   "pygments_lexer": "ipython2",
   "version": "2.7.6"
  }
 },
 "nbformat": 4,
 "nbformat_minor": 0
}